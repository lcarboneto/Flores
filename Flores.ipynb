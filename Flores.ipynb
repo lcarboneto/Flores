{
 "cells": [
  {
   "cell_type": "markdown",
   "id": "4d95e660",
   "metadata": {},
   "source": [
    "Fonte:  https://www.youtube.com/watch?v=PdFf_QOfjCg"
   ]
  },
  {
   "cell_type": "markdown",
   "id": "57b6de47",
   "metadata": {},
   "source": [
    "# Iris Flowers"
   ]
  },
  {
   "cell_type": "markdown",
   "id": "954bd777",
   "metadata": {},
   "source": [
    "## Importando as bibliotecas"
   ]
  },
  {
   "cell_type": "code",
   "execution_count": 1,
   "id": "6ac5e327",
   "metadata": {},
   "outputs": [
    {
     "name": "stdout",
     "output_type": "stream",
     "text": [
      "WARNING:tensorflow:From C:\\Users\\lcarb\\anaconda3\\Lib\\site-packages\\keras\\src\\losses.py:2976: The name tf.losses.sparse_softmax_cross_entropy is deprecated. Please use tf.compat.v1.losses.sparse_softmax_cross_entropy instead.\n",
      "\n"
     ]
    }
   ],
   "source": [
    "import pandas as pd\n",
    "import numpy as np\n",
    "import tensorflow as tf"
   ]
  },
  {
   "cell_type": "markdown",
   "id": "5f6667f5",
   "metadata": {},
   "source": [
    "## Carregando e Preparando o DataSet"
   ]
  },
  {
   "cell_type": "code",
   "execution_count": 2,
   "id": "47702ca2",
   "metadata": {},
   "outputs": [],
   "source": [
    "df = pd.read_csv('IRIS.csv')\n"
   ]
  },
  {
   "cell_type": "code",
   "execution_count": null,
   "id": "ce4eeeec",
   "metadata": {},
   "outputs": [],
   "source": [
    "df.head(10)"
   ]
  },
  {
   "cell_type": "code",
   "execution_count": null,
   "id": "dc93868d",
   "metadata": {},
   "outputs": [],
   "source": [
    "df.info()"
   ]
  },
  {
   "cell_type": "markdown",
   "id": "b01f0649",
   "metadata": {},
   "source": [
    "Como o objetivo é classificar por espécie (species) precisamos vonvertem as espécies em numeros, pois não é possível fazr com textos"
   ]
  },
  {
   "cell_type": "code",
   "execution_count": 3,
   "id": "1aab517a",
   "metadata": {},
   "outputs": [
    {
     "data": {
      "text/plain": [
       "array(['Iris-setosa', 'Iris-versicolor', 'Iris-virginica'], dtype=object)"
      ]
     },
     "execution_count": 3,
     "metadata": {},
     "output_type": "execute_result"
    }
   ],
   "source": [
    "df['species'].unique()"
   ]
  },
  {
   "cell_type": "code",
   "execution_count": null,
   "id": "629378aa",
   "metadata": {},
   "outputs": [],
   "source": []
  },
  {
   "cell_type": "code",
   "execution_count": 4,
   "id": "e7b05c0b",
   "metadata": {},
   "outputs": [],
   "source": [
    "df['species'] = df['species'].replace({'Iris-setosa':0,\n",
    "                                      'Iris-versicolor':1,\n",
    "                                      'Iris-virginica':2})"
   ]
  },
  {
   "cell_type": "markdown",
   "id": "98032646",
   "metadata": {},
   "source": [
    "## Divisão de Treino e Teste"
   ]
  },
  {
   "cell_type": "code",
   "execution_count": 31,
   "id": "4c488095",
   "metadata": {},
   "outputs": [],
   "source": [
    "from sklearn.model_selection import train_test_split"
   ]
  },
  {
   "cell_type": "code",
   "execution_count": 32,
   "id": "a5ced2e1",
   "metadata": {},
   "outputs": [],
   "source": [
    "X = df.drop(columns=['species']) #Variaveis de entrada\n",
    "y = df['species'] #Variavel de saída"
   ]
  },
  {
   "cell_type": "code",
   "execution_count": 33,
   "id": "81213023",
   "metadata": {},
   "outputs": [],
   "source": [
    "X_train, X_test, y_train, y_test = train_test_split(X, y, test_size=0.33, random_state=42)"
   ]
  },
  {
   "cell_type": "markdown",
   "id": "ee01bbd7",
   "metadata": {},
   "source": [
    "## Padronizando os Dados"
   ]
  },
  {
   "cell_type": "code",
   "execution_count": 34,
   "id": "9e894eab",
   "metadata": {},
   "outputs": [],
   "source": [
    "from sklearn.preprocessing import StandardScaler"
   ]
  },
  {
   "cell_type": "code",
   "execution_count": 35,
   "id": "fcb8a1fa",
   "metadata": {},
   "outputs": [],
   "source": [
    "scaler = StandardScaler()"
   ]
  },
  {
   "cell_type": "code",
   "execution_count": 36,
   "id": "5fa12c30",
   "metadata": {},
   "outputs": [],
   "source": [
    "scaler.fit(X_train)\n",
    "\n",
    "X_train = scaler.transform(X_train)\n",
    "X_test = scaler.transform(X_test)\n"
   ]
  },
  {
   "cell_type": "markdown",
   "id": "9bdacf56",
   "metadata": {},
   "source": [
    "## Redes Neurais\n",
    "\n",
    "### Treino"
   ]
  },
  {
   "cell_type": "code",
   "execution_count": 49,
   "id": "5b51d9cd",
   "metadata": {},
   "outputs": [],
   "source": [
    "model = tf.keras.Sequential([\n",
    "    tf.keras.layers.Dense(16, input_shape=(4,), activation='relu'),\n",
    "    tf.keras.layers.Dense(32, activation='relu'),\n",
    "    \n",
    "    tf.keras.layers.Dense(3, activation='softmax')\n",
    "])"
   ]
  },
  {
   "cell_type": "code",
   "execution_count": 50,
   "id": "36fadd8e",
   "metadata": {},
   "outputs": [],
   "source": [
    "model.compile(optimizer=tf.keras.optimizers.Adam(), \n",
    "             loss=tf.keras.losses.SparseCategoricalCrossentropy(),\n",
    "             metrics='accuracy')"
   ]
  },
  {
   "cell_type": "code",
   "execution_count": 51,
   "id": "5ac8a738",
   "metadata": {},
   "outputs": [
    {
     "name": "stdout",
     "output_type": "stream",
     "text": [
      "Epoch 1/25\n",
      "25/25 [==============================] - 1s 2ms/step - loss: 1.1524 - accuracy: 0.3600\n",
      "Epoch 2/25\n",
      "25/25 [==============================] - 0s 3ms/step - loss: 0.9646 - accuracy: 0.6300\n",
      "Epoch 3/25\n",
      "25/25 [==============================] - 0s 4ms/step - loss: 0.8268 - accuracy: 0.7100\n",
      "Epoch 4/25\n",
      "25/25 [==============================] - 0s 3ms/step - loss: 0.7030 - accuracy: 0.7400\n",
      "Epoch 5/25\n",
      "25/25 [==============================] - 0s 3ms/step - loss: 0.6011 - accuracy: 0.8100\n",
      "Epoch 6/25\n",
      "25/25 [==============================] - 0s 4ms/step - loss: 0.5111 - accuracy: 0.8400\n",
      "Epoch 7/25\n",
      "25/25 [==============================] - 0s 4ms/step - loss: 0.4443 - accuracy: 0.8400\n",
      "Epoch 8/25\n",
      "25/25 [==============================] - 0s 4ms/step - loss: 0.3911 - accuracy: 0.8700\n",
      "Epoch 9/25\n",
      "25/25 [==============================] - 0s 4ms/step - loss: 0.3511 - accuracy: 0.8700\n",
      "Epoch 10/25\n",
      "25/25 [==============================] - 0s 4ms/step - loss: 0.3266 - accuracy: 0.9100\n",
      "Epoch 11/25\n",
      "25/25 [==============================] - 0s 4ms/step - loss: 0.3032 - accuracy: 0.9100\n",
      "Epoch 12/25\n",
      "25/25 [==============================] - 0s 4ms/step - loss: 0.2824 - accuracy: 0.8900\n",
      "Epoch 13/25\n",
      "25/25 [==============================] - 0s 4ms/step - loss: 0.2663 - accuracy: 0.9200\n",
      "Epoch 14/25\n",
      "25/25 [==============================] - 0s 4ms/step - loss: 0.2524 - accuracy: 0.9100\n",
      "Epoch 15/25\n",
      "25/25 [==============================] - 0s 4ms/step - loss: 0.2400 - accuracy: 0.9200\n",
      "Epoch 16/25\n",
      "25/25 [==============================] - 0s 4ms/step - loss: 0.2290 - accuracy: 0.9300\n",
      "Epoch 17/25\n",
      "25/25 [==============================] - 0s 4ms/step - loss: 0.2170 - accuracy: 0.9300\n",
      "Epoch 18/25\n",
      "25/25 [==============================] - 0s 3ms/step - loss: 0.2075 - accuracy: 0.9200\n",
      "Epoch 19/25\n",
      "25/25 [==============================] - 0s 4ms/step - loss: 0.1972 - accuracy: 0.9300\n",
      "Epoch 20/25\n",
      "25/25 [==============================] - 0s 4ms/step - loss: 0.1876 - accuracy: 0.9400\n",
      "Epoch 21/25\n",
      "25/25 [==============================] - 0s 4ms/step - loss: 0.1755 - accuracy: 0.9400\n",
      "Epoch 22/25\n",
      "25/25 [==============================] - 0s 3ms/step - loss: 0.1685 - accuracy: 0.9400\n",
      "Epoch 23/25\n",
      "25/25 [==============================] - 0s 3ms/step - loss: 0.1602 - accuracy: 0.9400\n",
      "Epoch 24/25\n",
      "25/25 [==============================] - 0s 2ms/step - loss: 0.1519 - accuracy: 0.9500\n",
      "Epoch 25/25\n",
      "25/25 [==============================] - 0s 4ms/step - loss: 0.1447 - accuracy: 0.9500\n"
     ]
    },
    {
     "data": {
      "text/plain": [
       "<keras.src.callbacks.History at 0x19e663c0950>"
      ]
     },
     "execution_count": 51,
     "metadata": {},
     "output_type": "execute_result"
    }
   ],
   "source": [
    "model.fit(X_train, y_train, batch_size=4, epochs=25)"
   ]
  },
  {
   "cell_type": "markdown",
   "id": "2c2f0212",
   "metadata": {},
   "source": [
    "## Teste"
   ]
  },
  {
   "cell_type": "code",
   "execution_count": 52,
   "id": "a93c0935",
   "metadata": {},
   "outputs": [
    {
     "name": "stdout",
     "output_type": "stream",
     "text": [
      "2/2 [==============================] - 0s 4ms/step - loss: 0.1045 - accuracy: 1.0000\n"
     ]
    },
    {
     "data": {
      "text/plain": [
       "[0.10454309731721878, 1.0]"
      ]
     },
     "execution_count": 52,
     "metadata": {},
     "output_type": "execute_result"
    }
   ],
   "source": [
    "model.evaluate(X_test, y_test)"
   ]
  },
  {
   "cell_type": "markdown",
   "id": "ecca9306",
   "metadata": {},
   "source": [
    "# Salvando o modelo"
   ]
  },
  {
   "cell_type": "code",
   "execution_count": 53,
   "id": "32f0d4c1",
   "metadata": {},
   "outputs": [],
   "source": [
    "model.save('modelo.keras')"
   ]
  }
 ],
 "metadata": {
  "kernelspec": {
   "display_name": "Python 3 (ipykernel)",
   "language": "python",
   "name": "python3"
  },
  "language_info": {
   "codemirror_mode": {
    "name": "ipython",
    "version": 3
   },
   "file_extension": ".py",
   "mimetype": "text/x-python",
   "name": "python",
   "nbconvert_exporter": "python",
   "pygments_lexer": "ipython3",
   "version": "3.11.4"
  }
 },
 "nbformat": 4,
 "nbformat_minor": 5
}
